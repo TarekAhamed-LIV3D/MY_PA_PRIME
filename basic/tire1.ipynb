{
  "cells": [
    {
      "cell_type": "markdown",
      "metadata": {},
      "source": [
        "Installing Libraries"
      ]
    },
    {
      "cell_type": "code",
      "execution_count": null,
      "metadata": {},
      "outputs": [],
      "source": [
        "!pip install rasa"
      ]
    },
    {
      "cell_type": "code",
      "execution_count": null,
      "metadata": {},
      "outputs": [],
      "source": [
        "!pip install rasa-core"
      ]
    },
    {
      "cell_type": "code",
      "execution_count": null,
      "metadata": {},
      "outputs": [],
      "source": [
        "!pip install rasa-nlu"
      ]
    },
    {
      "cell_type": "markdown",
      "metadata": {},
      "source": [
        "Importing Libraries"
      ]
    },
    {
      "cell_type": "code",
      "execution_count": null,
      "metadata": {
        "id": "zwFnJsE6vjf8"
      },
      "outputs": [],
      "source": [
        "from rasa.core.agent import Agent\n",
        "from rasa.core.policies.memoization import MemoizationPolicy\n",
        "from rasa.core.policies.keras_policy import KerasPolicy\n",
        "from rasa.nlu.training_data import load_data\n",
        "from rasa.nlu.config import RasaNLUModelConfig\n",
        "from rasa.nlu.model import Trainer\n",
        "import datetime\n",
        "import pytz\n",
        "import requests"
      ]
    },
    {
      "cell_type": "markdown",
      "metadata": {},
      "source": [
        "Load NLU training data"
      ]
    },
    {
      "cell_type": "code",
      "execution_count": null,
      "metadata": {},
      "outputs": [],
      "source": [
        "training_data = load_data('data/nlu.md')"
      ]
    },
    {
      "cell_type": "markdown",
      "metadata": {},
      "source": [
        "Train the NLU model"
      ]
    },
    {
      "cell_type": "code",
      "execution_count": null,
      "metadata": {},
      "outputs": [],
      "source": [
        "trainer = Trainer(RasaNLUModelConfig(\"nlu_config.yml\"))\n",
        "nlu_model = trainer.train(training_data)"
      ]
    },
    {
      "cell_type": "markdown",
      "metadata": {},
      "source": [
        "Load the core model"
      ]
    },
    {
      "cell_type": "code",
      "execution_count": null,
      "metadata": {},
      "outputs": [],
      "source": [
        "agent = Agent(\n",
        "    \"domain.yml\",\n",
        "    policies=[MemoizationPolicy(), KerasPolicy()]\n",
        ")"
      ]
    },
    {
      "cell_type": "markdown",
      "metadata": {},
      "source": [
        "Define a custom action to set a reminder"
      ]
    },
    {
      "cell_type": "code",
      "execution_count": null,
      "metadata": {},
      "outputs": [],
      "source": [
        "class SetReminderAction(Action):\n",
        "    def name(self):\n",
        "        return \"action_set_reminder\"\n",
        "\n",
        "    def run(self, dispatcher, tracker, domain):\n",
        "        reminder_time = tracker.get_slot(\"reminder_time\")\n",
        "        reminder_message = tracker.get_slot(\"reminder_message\")\n",
        "\n",
        "        # Set the reminder using the provided information\n",
        "        set_reminder(reminder_time, reminder_message)\n",
        "\n",
        "        dispatcher.utter_message(f\"Okay, I've set a reminder for {reminder_time} with the message '{reminder_message}'.\")\n",
        "        return []"
      ]
    },
    {
      "cell_type": "markdown",
      "metadata": {},
      "source": [
        "Define a custom action to control smart home devices"
      ]
    },
    {
      "cell_type": "code",
      "execution_count": null,
      "metadata": {},
      "outputs": [],
      "source": [
        "class SmartHomeAction(Action):\n",
        "    def name(self):\n",
        "        return \"action_control_smart_home\"\n",
        "\n",
        "    def run(self, dispatcher, tracker, domain):\n",
        "        device = tracker.get_slot(\"smart_home_device\")\n",
        "        action = tracker.get_slot(\"smart_home_action\")\n",
        "\n",
        "        # Control the smart home device using the provided information\n",
        "        control_smart_home(device, action)\n",
        "\n",
        "        dispatcher.utter_message(f\"I've {action} the {device}.\")\n",
        "        return []"
      ]
    },
    {
      "cell_type": "markdown",
      "metadata": {},
      "source": [
        "Use the Google Calendar API to set a reminder"
      ]
    },
    {
      "cell_type": "code",
      "execution_count": null,
      "metadata": {},
      "outputs": [],
      "source": [
        "def set_reminder(reminder_time, reminder_message):\n",
        "    # Use the Google Calendar API to set a reminder\n",
        "    pass"
      ]
    },
    {
      "cell_type": "markdown",
      "metadata": {},
      "source": [
        "Use a smart home integration API to control the device"
      ]
    },
    {
      "cell_type": "code",
      "execution_count": null,
      "metadata": {},
      "outputs": [],
      "source": [
        "def control_smart_home(device, action):\n",
        "    # Use a smart home integration API to control the device\n",
        "    pass"
      ]
    }
  ],
  "metadata": {
    "colab": {
      "include_colab_link": true,
      "name": "Welcome To Colaboratory",
      "provenance": [],
      "toc_visible": true
    },
    "kernelspec": {
      "display_name": "Python 3",
      "name": "python3"
    }
  },
  "nbformat": 4,
  "nbformat_minor": 0
}
